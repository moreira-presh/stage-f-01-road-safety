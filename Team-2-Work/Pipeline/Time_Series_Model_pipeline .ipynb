{
 "cells": [
  {
   "cell_type": "markdown",
   "metadata": {
    "colab_type": "text",
    "id": "view-in-github"
   },
   "source": [
    "<a href=\"https://colab.research.google.com/github/sophiabj/03-presidential-election/blob/master/Road_Safety_Time_Series_Model.ipynb\" target=\"_parent\"><img src=\"https://colab.research.google.com/assets/colab-badge.svg\" alt=\"Open In Colab\"/></a>"
   ]
  },
  {
   "cell_type": "markdown",
   "metadata": {
    "id": "50xo7wl0GKog"
   },
   "source": [
    "Problem statement: Can we predict the dangerous and safest times to travel in United Kingdom (UK)?\n",
    "\n",
    "Data: The data contains information on road accidents that occurred in UK in 2016. It includes details of casualties and vehicles involved in the accidents.\n",
    "\n"
   ]
  },
  {
   "cell_type": "markdown",
   "metadata": {},
   "source": []
  },
  {
   "cell_type": "code",
   "execution_count": 41,
   "metadata": {
    "id": "L5pLw3fnQYG2"
   },
   "outputs": [],
   "source": [
    "#Output directory\n",
    "output_dir = \".\""
   ]
  },
  {
   "cell_type": "raw",
   "metadata": {},
   "source": []
  },
  {
   "cell_type": "code",
   "execution_count": 42,
   "metadata": {},
   "outputs": [],
   "source": [
    "# Import Kubeflow SDK\n",
    "import kfp\n",
    "import kfp.dsl as dsl\n",
    "import kfp.components as comp\n",
    "import os"
   ]
  },
  {
   "cell_type": "code",
   "execution_count": 43,
   "metadata": {
    "id": "lY2IFaMtZz6t"
   },
   "outputs": [],
   "source": [
    "#Preprocessing component\n",
    "def preprocess (data_path):\n",
    "  import pickle\n",
    "  import os\n",
    "  import sys, subprocess;\n",
    "  subprocess.run([sys.executable, '-m', 'pip', 'install', 'pip==20.2.4'])\n",
    "  subprocess.run([sys.executable, '-m', 'pip', 'install', 'pandas==0.23.4'])\n",
    "  #subprocess.run([sys.executable, '-m', '!pip', 'install', 'scikit-learn==0.22'])\n",
    "  subprocess.run([sys.executable, '-m', 'pip', 'install', 'numpy==1.17.1'])\n",
    "    \n",
    "  import pandas as pd\n",
    "  import numpy as np\n",
    "\n",
    " \n",
    "\n",
    "  main = pd.read_csv(\"https://raw.githubusercontent.com/sophiabj/stage-f-01-road-safety/master/data/dftRoadSafety_Accidents_2016.csv\")\n",
    "  \n",
    "  pd.set_option(\"display.max_columns\", 32)\n",
    " \n",
    "  main.fillna(method='ffill',inplace=True)\n",
    " \n",
    "  main.to_csv('Time_series', index=False)\n",
    " \n",
    "  Time_series = pd.read_csv('Time_series', infer_datetime_format=True, parse_dates={'datetime':[9,11]},\n",
    "                 index_col=['datetime'], header = 0,)\n",
    " \n",
    "  Time_series_2 = Time_series[['Accident_Index','Number_of_Casualties']]\n",
    "  \n",
    "  Time_series_2.isna().sum()\n",
    "  \n",
    "  Time_series_2.index = pd.to_datetime(Time_series.index)\n",
    " \n",
    "  df_daily = Time_series_2.resample('D').mean()\n",
    "    \n",
    "  df_daily = df_daily.reset_index()\n",
    "\n",
    "  df_daily = df_daily.rename(columns={'datetime': 'ds', 'Number_of_Casualties': 'y'})\n",
    "  \n",
    "  train2 = df_daily[(df_daily['ds'] > '2016-01-01') & (df_daily['ds'] <= '2016-12-01')]\n",
    "  \n",
    "  test = df_daily[(df_daily['ds'] > '2016-12-01')]\n",
    "    \n",
    "  #Save data              \n",
    "  with open(f'{data_path}/preprocessed_data', 'wb') as f:\n",
    "        pickle.dump((train2), f)\n",
    "        \n",
    "  (print(\"Preprocessing Done\"))\n",
    "  return pd.DataFrame(train2).shape  \n"
   ]
  },
  {
   "cell_type": "code",
   "execution_count": 44,
   "metadata": {},
   "outputs": [
    {
     "name": "stderr",
     "output_type": "stream",
     "text": [
      "/opt/conda/lib/python3.7/site-packages/IPython/core/interactiveshell.py:3338: DtypeWarning: Columns (31) have mixed types.Specify dtype option on import or set low_memory=False.\n",
      "  if (await self.run_code(code, result,  async_=asy)):\n"
     ]
    },
    {
     "name": "stdout",
     "output_type": "stream",
     "text": [
      "Preprocessing Done\n"
     ]
    },
    {
     "data": {
      "text/plain": [
       "(335, 2)"
      ]
     },
     "execution_count": 44,
     "metadata": {},
     "output_type": "execute_result"
    }
   ],
   "source": [
    "preprocess(output_dir)"
   ]
  },
  {
   "cell_type": "markdown",
   "metadata": {
    "id": "aNGcKhSmp_OL"
   },
   "source": [
    "Training the Model"
   ]
  },
  {
   "cell_type": "code",
   "execution_count": 45,
   "metadata": {
    "id": "rqJQR2mZQewL"
   },
   "outputs": [],
   "source": [
    "#Training component\n",
    "def train(data_path):\n",
    "  import pickle\n",
    "  import sys \n",
    "  import os\n",
    "  import subprocess;\n",
    "  subprocess.run([sys.executable, '-m', 'pip', 'install', 'pip==20.2.4'])\n",
    "  subprocess.run([sys.executable, '-m', 'pip', 'install', 'pandas==0.23.4'])\n",
    "  subprocess.run([sys.executable, '-m', 'pip', 'install', 'scikit-learn==0.22'])\n",
    "  subprocess.run([sys.executable, '-m', 'pip', 'install', 'numpy==1.16.1'])\n",
    "  subprocess.run([sys.executable, '-m', 'pip', 'install','fbprophet', 'Prophet', 'plotly', ])\n",
    "  \n",
    "  import pandas as pd\n",
    "  import numpy as np\n",
    "  from fbprophet import Prophet\n",
    "\n",
    "  #load saved preprocessed data \n",
    "  with open(f'{data_path}/preprocessed_data', 'rb') as f:\n",
    "       preprocessed_data = pickle.load(f)\n",
    "    \n",
    "  train2 = preprocessed_data\n",
    " \n",
    "  model = Prophet(weekly_seasonality=True, yearly_seasonality=True,seasonality_mode='multiplicative',\n",
    "                daily_seasonality=True)\n",
    "\n",
    "  train3 = model.fit(train2)\n",
    "\n",
    "  #Save the model\n",
    "  with open(f'{data_path}/model', 'wb') as file:\n",
    "    pickle.dump((train3), file)\n",
    "\n",
    "  return (print(\"Model Trained\"))\n",
    "  \n",
    "  \n"
   ]
  },
  {
   "cell_type": "code",
   "execution_count": 46,
   "metadata": {},
   "outputs": [
    {
     "name": "stdout",
     "output_type": "stream",
     "text": [
      "Model Trained\n"
     ]
    }
   ],
   "source": [
    "train(output_dir)"
   ]
  },
  {
   "cell_type": "code",
   "execution_count": 47,
   "metadata": {
    "id": "VHaH2_QDr80H"
   },
   "outputs": [],
   "source": [
    "#Prediction component\n",
    "def predict (data_path):\n",
    "  import pickle\n",
    "  import sys, subprocess;\n",
    "  subprocess.run([sys.executable, '-m', 'pip', 'install', 'pandas', 'scikit-learn'])\n",
    "  subprocess.run([sys.executable, '-m', 'pip', 'install','fbprophet', 'Prophet', 'plotly', ])\n",
    "  from sklearn.metrics import mean_absolute_error as MAE\n",
    "  from sklearn.metrics import mean_squared_error as MSE\n",
    "  from sklearn.metrics import r2_score\n",
    "  from fbprophet import Prophet\n",
    "\n",
    "  #Load saved model\n",
    "  with open(f'{data_path}/model','rb') as file:\n",
    "    model = pickle.load(file)\n",
    "\n",
    "  #Evaluate model and print results\n",
    "  future_date = model.make_future_dataframe(periods=150, freq='D')\n",
    "\n",
    "  forecast = model.predict(future_date)\n",
    "  #forecast[['ds','yhat', 'trend', 'yhat_lower','yhat_upper', 'trend_lower', 'trend_upper']].head()\n",
    "\n",
    "  print('Model \\nr2_score = {} \\nMAE = {} \\nMSE = {}' .format(r2_score(forecast.trend, forecast.yhat),\n",
    "        MAE (forecast.trend, forecast.yhat), MSE (forecast.trend, forecast.yhat) ))\n",
    "  \n",
    "  #save result\n",
    "  with open(f'{data_path}/model_result.txt', 'wb') as result:\n",
    "    pickle.dump(forecast, result)\n",
    "    \n",
    "  \n",
    "  print(\"Prediction saved!\")\n"
   ]
  },
  {
   "cell_type": "code",
   "execution_count": 48,
   "metadata": {},
   "outputs": [
    {
     "name": "stdout",
     "output_type": "stream",
     "text": [
      "Model \n",
      "r2_score = -62.10180036111323 \n",
      "MAE = 0.039647263929478836 \n",
      "MSE = 0.0024535282891507445\n",
      "Prediction saved!\n"
     ]
    }
   ],
   "source": [
    "predict(output_dir)"
   ]
  },
  {
   "cell_type": "code",
   "execution_count": 49,
   "metadata": {
    "colab": {
     "base_uri": "https://localhost:8080/"
    },
    "id": "IkqlAMaS3MBZ",
    "outputId": "6b62b51e-d8c5-412a-dd3f-4f3ec7344bb9"
   },
   "outputs": [],
   "source": [
    "#Packaging components\n",
    "preprocess_op = comp.func_to_container_op(preprocess , base_image = \"tensorflow/tensorflow:latest-gpu-py3\")\n",
    "train_op = comp.func_to_container_op(train , base_image = \"tensorflow/tensorflow:latest-gpu-py3\")\n",
    "predict_op = comp.func_to_container_op(predict , base_image = \"tensorflow/tensorflow:latest-gpu-py3\")"
   ]
  },
  {
   "cell_type": "code",
   "execution_count": 50,
   "metadata": {
    "colab": {
     "base_uri": "https://localhost:8080/"
    },
    "id": "_1VRMpNZ3ogk",
    "outputId": "1b68e706-d048-465f-8c48-ef115a016f7d"
   },
   "outputs": [],
   "source": [
    "#connecting to kfp\n",
    "import kfp\n",
    "client = kfp.Client(host='51d2cc85769d1448-dot-us-central2.pipelines.googleusercontent.com')\n"
   ]
  },
  {
   "cell_type": "code",
   "execution_count": 51,
   "metadata": {
    "id": "FzMW6YiT3yGF"
   },
   "outputs": [],
   "source": [
    "# Define the pipeline\n",
    "@dsl.pipeline(\n",
    "   name='Road Safety Pipeline',\n",
    "   description='An ML pipeline that predicts safest and dangerous times to travel.'\n",
    ")\n",
    "\n",
    "# Define parameters to be fed into pipeline\n",
    "def road_safety_container_pipeline(\n",
    "    data_path: str,\n",
    "    model_file: str\n",
    "):\n",
    "    \n",
    "    # Define volume to share data between components.\n",
    "    vop = dsl.VolumeOp(\n",
    "    name=\"create_volume\",\n",
    "    resource_name=\"data-volume\", \n",
    "    size=\"1Gi\", \n",
    "    modes=dsl.VOLUME_MODE_RWO)\n",
    "    \n",
    "    # Create road safety training component.\n",
    "    road_safety_preprocess_container = preprocess_op(data_path).add_pvolumes({data_path: vop.volume})\n",
    "    \n",
    "    road_safety_training_container = train_op(data_path) \\\n",
    "                                    .add_pvolumes({data_path: road_safety_preprocess_container.pvolume})\n",
    "\n",
    "    # Create road safety prediction component.\n",
    "    road_safety_predict_container = predict_op(data_path) \\\n",
    "                                    .add_pvolumes({data_path: road_safety_training_container.pvolume})\n",
    "    \n",
    "    # Print the result of the prediction\n",
    "    road_safety_result_container = dsl.ContainerOp(\n",
    "        name=\"print_prediction\",\n",
    "        image='library/bash:4.4.23',\n",
    "        pvolumes={data_path: road_safety_predict_container.pvolume},\n",
    "        arguments=['head', f'{data_path}/model_result.txt']\n",
    "    )"
   ]
  },
  {
   "cell_type": "code",
   "execution_count": 52,
   "metadata": {
    "id": "4N042bmJ37SS"
   },
   "outputs": [],
   "source": [
    "DATA_PATH = '/mnt'\n",
    "MODEL_PATH='road_safety_model.h5'"
   ]
  },
  {
   "cell_type": "code",
   "execution_count": 53,
   "metadata": {
    "id": "xoG-n5kV4AL0"
   },
   "outputs": [],
   "source": [
    "pipeline_func = road_safety_container_pipeline"
   ]
  },
  {
   "cell_type": "code",
   "execution_count": 54,
   "metadata": {
    "colab": {
     "base_uri": "https://localhost:8080/",
     "height": 815
    },
    "id": "hC3Ccqzj4FBW",
    "outputId": "497d3110-ff66-4300-ac93-c4d6ef2bc23a"
   },
   "outputs": [
    {
     "name": "stderr",
     "output_type": "stream",
     "text": [
      "/home/jupyter/.local/lib/python3.7/site-packages/kfp/dsl/_container_op.py:1028: FutureWarning: Please create reusable components instead of constructing ContainerOp instances directly. Reusable components are shareable, portable and have compatibility and support guarantees. Please see the documentation: https://www.kubeflow.org/docs/pipelines/sdk/component-development/#writing-your-component-definition-file The components can be created manually (or, in case of python, using kfp.components.create_component_from_func or func_to_container_op) and then loaded using kfp.components.load_component_from_file, load_component_from_uri or load_component_from_text: https://kubeflow-pipelines.readthedocs.io/en/latest/source/kfp.components.html#kfp.components.load_component_from_file\n",
      "  category=FutureWarning,\n"
     ]
    },
    {
     "data": {
      "text/html": [
       "<a href=\"http://51d2cc85769d1448-dot-us-central2.pipelines.googleusercontent.com/#/experiments/details/ae6cf40c-851d-4631-bae9-408d83104f12\" target=\"_blank\" >Experiment details</a>."
      ],
      "text/plain": [
       "<IPython.core.display.HTML object>"
      ]
     },
     "metadata": {},
     "output_type": "display_data"
    },
    {
     "data": {
      "text/html": [
       "<a href=\"http://51d2cc85769d1448-dot-us-central2.pipelines.googleusercontent.com/#/runs/details/4412fa9f-4ea7-4c20-9897-308f1b6f4535\" target=\"_blank\" >Run details</a>."
      ],
      "text/plain": [
       "<IPython.core.display.HTML object>"
      ]
     },
     "metadata": {},
     "output_type": "display_data"
    }
   ],
   "source": [
    "experiment_name = 'road_safety_kubeflow'\n",
    "run_name = pipeline_func.__name__ + ' run'\n",
    "\n",
    "arguments = {\"data_path\":DATA_PATH,\n",
    "             \"model_file\":MODEL_PATH}\n",
    "\n",
    "# Compile pipeline to generate compressed YAML definition of the pipeline.\n",
    "kfp.compiler.Compiler().compile(pipeline_func,  \n",
    "  '{}.zip'.format(experiment_name))\n",
    "\n",
    "# Submit pipeline directly from pipeline function\n",
    "run_result = client.create_run_from_pipeline_func(pipeline_func, \n",
    "                                                  experiment_name=experiment_name, \n",
    "                                                  run_name=run_name, \n",
    "                                                  arguments=arguments)"
   ]
  },
  {
   "cell_type": "code",
   "execution_count": null,
   "metadata": {},
   "outputs": [],
   "source": []
  },
  {
   "cell_type": "code",
   "execution_count": null,
   "metadata": {},
   "outputs": [],
   "source": []
  },
  {
   "cell_type": "code",
   "execution_count": null,
   "metadata": {},
   "outputs": [],
   "source": []
  }
 ],
 "metadata": {
  "colab": {
   "collapsed_sections": [],
   "include_colab_link": true,
   "name": "Road_Safety_Time_Series_Model.ipynb",
   "provenance": []
  },
  "environment": {
   "name": "tf2-2-3-gpu.2-3.m59",
   "type": "gcloud",
   "uri": "gcr.io/deeplearning-platform-release/tf2-2-3-gpu.2-3:m59"
  },
  "kernelspec": {
   "display_name": "Python 3",
   "language": "python",
   "name": "python3"
  },
  "language_info": {
   "codemirror_mode": {
    "name": "ipython",
    "version": 3
   },
   "file_extension": ".py",
   "mimetype": "text/x-python",
   "name": "python",
   "nbconvert_exporter": "python",
   "pygments_lexer": "ipython3",
   "version": "3.7.8"
  }
 },
 "nbformat": 4,
 "nbformat_minor": 4
}
